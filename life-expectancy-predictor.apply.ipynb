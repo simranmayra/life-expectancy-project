{
  "cells":[
    {
      "cell_type":"code",
      "source":[
        "import numpy as np #linearalgebra\n",
        "import pandas as pd #dataprocessing and reading of csv file\\\n",
        "from scipy.stats import pearsonr\n",
        "import os\n",
        "\n",
        "data=pd.read_csv('Life-Expectancy-Data.csv')\n",
        "# prepare data\n",
        "data=data[data['Country']=='Canada']\n",
        "final_data=data.sort_values(by=['Year'], ascending=True)\n",
        "final_data = final_data[final_data['Income composition of resources'].notna()]#removenavalueswhichareinfinity\/nothing\n",
        "final_data = final_data[final_data['Hepatitis B'].notna()]\n",
        "x=final_data[['Income composition of resources', 'Hepatitis B']].values #Hepatitis B (HepB) immunization coverage among 1-year-olds (%).\n",
        "y=final_data['Life expectancy '].values\n",
        "#Human Development Index in terms of income composition of resources (index ranging from 0 to 1).\n",
        "\n",
        "data_tr=data[data['Country']=='Canada']\n",
        "\n",
        "final_data=data_tr.sort_values(by=['Year'], ascending=True)\n",
        "\n",
        "x=final_data['Income composition of resources'].values.reshape(-1,1)\n",
        "\n",
        "y=final_data['Life expectancy '].values.reshape(-1,1)\n",
        "\n",
        "import matplotlib.pyplot as plt\n",
        "\n",
        "plt.scatter(x,y)\n",
        "plt.xlabel(\"Income composition of resources\")\n",
        "\n",
        "plt.ylabel('Life expectancy ')\n",
        "\n",
        "from sklearn.linear_model import LinearRegression\n",
        "lr= LinearRegression()\n",
        "\n",
        "lr.fit(x,y)\n",
        "\n",
        "y_head=lr.predict(x)\n",
        "\n",
        "plt.plot(x,y_head,color='red',label='linear')\n",
        "\n",
        "plt.show()\n",
        "\n",
        "from sklearn.preprocessing import PolynomialFeatures\n",
        "\n",
        "polynomial_regression=PolynomialFeatures(degree = 15)\n",
        "\n",
        "x_polynomial=polynomial_regression.fit_transform(x)\n",
        "\n",
        "linear_regression2=LinearRegression()\n",
        "\n",
        "linear_regression2.fit(x_polynomial,y)\n",
        "\n",
        "LinearRegression()\n",
        "\n",
        "#visualizingdata\n",
        "\n",
        "plt.scatter(x,y)\n",
        "\n",
        "plt.xlabel('Income composition of resources')\n",
        "\n",
        "plt.ylabel('Life expectancy')\n",
        "\n",
        "y_head2=linear_regression2.predict(x_polynomial)\n",
        "\n",
        "plt.plot(x,y_head2,color='green', label='poly')\n",
        "\n",
        "plt.legend()\n",
        "\n",
        "plt.show()"
      ],
      "execution_count":2,
      "outputs":[
        {
          "data":{
            "image\/png":"[encoded data removed]"
          },
          "metadata":{
            "image\/png":{
              "width":0,
              "height":0
            }
          },
          "output_type":"display_data"
        }
      ],
      "metadata":{
        
      }
    },
    {
      "cell_type":"code",
      "source":[
        "import numpy as np #linearalgebra\n",
        "import pandas as pd #dataprocessing and reading of csv file\\\n",
        "from scipy.stats import pearsonr\n",
        "import os\n",
        " \n",
        "data=pd.read_csv('Life-Expectancy-Data.csv')\n",
        "# prepare data\n",
        "data=data[data['Country']=='Afghanistan']\n",
        "final_data=data.sort_values(by=['Year'], ascending=True)\n",
        "final_data = final_data[final_data['Income composition of resources'].notna()]\n",
        "final_data = final_data[final_data['Hepatitis B'].notna()]\n",
        "x=final_data[['Income composition of resources', 'Hepatitis B']].values\n",
        "y=final_data['Life expectancy '].values\n",
        " \n",
        "from sklearn.linear_model import LinearRegression\n",
        "lr= LinearRegression()\n",
        "lr.fit(x,y)\n",
        "y_head=lr.predict(x)\n",
        "corr, _ = pearsonr(y, y_head)\n",
        "print(\"Pearson's Correlation for LR: \" + str(corr))\n",
        " \n",
        " \n",
        "#0.919 = 'Income composition of resources'\n",
        "#55.00 = 'Hepatitis B'\n",
        "pred = lr.predict([[0.34, 63.00]])[0]\n",
        "print(\"LR Model Prediction: \" + str(pred))\n",
        " \n",
        " \n",
        "from sklearn.preprocessing import PolynomialFeatures\n",
        "polynomial_regression=PolynomialFeatures(degree = 15)\n",
        "x_polynomial=polynomial_regression.fit_transform(x)\n",
        "lr2=LinearRegression()\n",
        "lr2.fit(x_polynomial,y)\n",
        "y_head2=lr2.predict(x_polynomial)\n",
        "corr2, _ = pearsonr(y, y_head2)\n",
        "print(\"Pearson's Correlation for PLR: \" + str(corr2))\n",
        " \n",
        "#0.919 = 'Income composition of resources'\n",
        "#55.00 = 'Hepatitis B'\n",
        "pred2 = lr2.predict(polynomial_regression.fit_transform([[0.34, 63.00]]))[0]\n",
        "print(\"PLR Model Prediction: \" + str(pred2))"
      ],
      "execution_count":32,
      "outputs":[
        {
          "name":"stdout",
          "text":[
            "Pearson's Correlation for LR: 0.85746713227786\n",
            "LR Model Prediction: 55.05456020224973\n",
            "Pearson's Correlation for PLR: 0.9997470780194619\n",
            "PLR Model Prediction: 55.32601231094441\n"
          ],
          "output_type":"stream"
        }
      ],
      "metadata":{
        
      }
    }
  ],
  "metadata":{
    
  },
  "nbformat":4,
  "nbformat_minor":0
}